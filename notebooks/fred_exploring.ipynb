{
 "cells": [
  {
   "cell_type": "code",
   "execution_count": 1,
   "metadata": {},
   "outputs": [],
   "source": [
    "from dotenv import load_dotenv\n",
    "import os\n",
    "import pandas as pd\n",
    "from fredapi import Fred\n",
    "import yaml"
   ]
  },
  {
   "cell_type": "code",
   "execution_count": 2,
   "metadata": {},
   "outputs": [],
   "source": [
    "root_dir = os.path.dirname(os.getcwd())\n",
    "key_yaml = os.path.join(root_dir, 'config', 'api_keys.yaml')\n",
    "with open(key_yaml, 'r') as file:\n",
    "    keys = yaml.safe_load(file)['keys']"
   ]
  },
  {
   "cell_type": "code",
   "execution_count": 3,
   "metadata": {},
   "outputs": [
    {
     "data": {
      "text/plain": [
       "id                                                                         GDP\n",
       "realtime_start                                                      2024-12-19\n",
       "realtime_end                                                        2024-12-19\n",
       "title                                                   Gross Domestic Product\n",
       "observation_start                                                   1947-01-01\n",
       "observation_end                                                     2024-07-01\n",
       "frequency                                                            Quarterly\n",
       "frequency_short                                                              Q\n",
       "units                                                      Billions of Dollars\n",
       "units_short                                                          Bil. of $\n",
       "seasonal_adjustment                            Seasonally Adjusted Annual Rate\n",
       "seasonal_adjustment_short                                                 SAAR\n",
       "last_updated                                            2024-12-19 07:55:01-06\n",
       "popularity                                                                  93\n",
       "notes                        BEA Account Code: A191RC  Gross domestic produ...\n",
       "dtype: object"
      ]
     },
     "execution_count": 3,
     "metadata": {},
     "output_type": "execute_result"
    }
   ],
   "source": [
    "fred = Fred(api_key=keys['fred'])\n",
    "data = fred.get_series_all_releases('GDP')\n",
    "fred.get_series_info(\"GDP\")"
   ]
  },
  {
   "cell_type": "code",
   "execution_count": 4,
   "metadata": {},
   "outputs": [],
   "source": [
    "data.dropna(inplace=True)\n",
    "data['date'] = pd.to_datetime(data['date'])\n",
    "data['realtime_start'] = pd.to_datetime(data['realtime_start'])\n",
    "data = data.rename({'value':'GDP'}, axis=1)\n",
    "data['GDP'] = data['GDP'].astype(float)"
   ]
  },
  {
   "cell_type": "code",
   "execution_count": null,
   "metadata": {},
   "outputs": [],
   "source": [
    "data.drop_duplicates('date').set_index(\"date\")['GDP'].plot()"
   ]
  },
  {
   "cell_type": "code",
   "execution_count": null,
   "metadata": {},
   "outputs": [],
   "source": []
  }
 ],
 "metadata": {
  "kernelspec": {
   "display_name": "trading-TXiav44g",
   "language": "python",
   "name": "python3"
  },
  "language_info": {
   "codemirror_mode": {
    "name": "ipython",
    "version": 3
   },
   "file_extension": ".py",
   "mimetype": "text/x-python",
   "name": "python",
   "nbconvert_exporter": "python",
   "pygments_lexer": "ipython3",
   "version": "3.12.4"
  }
 },
 "nbformat": 4,
 "nbformat_minor": 2
}
