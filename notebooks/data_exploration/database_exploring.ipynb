{
 "cells": [
  {
   "cell_type": "code",
   "execution_count": null,
   "metadata": {},
   "outputs": [],
   "source": [
    "# import data_fetching.alpaca_helpers"
   ]
  },
  {
   "cell_type": "code",
   "execution_count": null,
   "metadata": {},
   "outputs": [],
   "source": []
  },
  {
   "cell_type": "code",
   "execution_count": 1,
   "metadata": {},
   "outputs": [],
   "source": [
    "from database.connection import DatabaseManager"
   ]
  },
  {
   "cell_type": "code",
   "execution_count": 2,
   "metadata": {},
   "outputs": [],
   "source": [
    "db_manager = DatabaseManager()"
   ]
  },
  {
   "cell_type": "code",
   "execution_count": 3,
   "metadata": {},
   "outputs": [],
   "source": [
    "db_manager.initiate_pool()\n",
    "conn = db_manager.connect_to_db()"
   ]
  },
  {
   "cell_type": "code",
   "execution_count": 4,
   "metadata": {},
   "outputs": [
    {
     "data": {
      "text/plain": [
       "[('daily_prices',)]"
      ]
     },
     "execution_count": 4,
     "metadata": {},
     "output_type": "execute_result"
    }
   ],
   "source": [
    "db_manager.get_tables(conn)"
   ]
  },
  {
   "cell_type": "code",
   "execution_count": 5,
   "metadata": {},
   "outputs": [
    {
     "data": {
      "text/plain": [
       "[('id', 'integer', None),\n",
       " ('date', 'date', None),\n",
       " ('ticker', 'character varying', 10),\n",
       " ('open_price', 'numeric', None),\n",
       " ('high_price', 'numeric', None),\n",
       " ('low_price', 'numeric', None),\n",
       " ('close_price', 'numeric', None),\n",
       " ('volume', 'bigint', None),\n",
       " ('trade_count', 'integer', None),\n",
       " ('vwap', 'numeric', None),\n",
       " ('created_date', 'timestamp without time zone', None)]"
      ]
     },
     "execution_count": 5,
     "metadata": {},
     "output_type": "execute_result"
    }
   ],
   "source": [
    "db_manager.get_table_structure(conn, 'daily_prices')"
   ]
  },
  {
   "cell_type": "code",
   "execution_count": 6,
   "metadata": {},
   "outputs": [
    {
     "data": {
      "text/plain": [
       "[('id',),\n",
       " ('date',),\n",
       " ('ticker',),\n",
       " ('open_price',),\n",
       " ('high_price',),\n",
       " ('low_price',),\n",
       " ('close_price',),\n",
       " ('volume',),\n",
       " ('trade_count',),\n",
       " ('vwap',),\n",
       " ('created_date',)]"
      ]
     },
     "execution_count": 6,
     "metadata": {},
     "output_type": "execute_result"
    }
   ],
   "source": [
    "db_manager.get_colnames(conn, 'daily_prices')"
   ]
  },
  {
   "cell_type": "code",
   "execution_count": 7,
   "metadata": {},
   "outputs": [
    {
     "data": {
      "text/plain": [
       "[(0, 11)]"
      ]
     },
     "execution_count": 7,
     "metadata": {},
     "output_type": "execute_result"
    }
   ],
   "source": [
    "db_manager.get_table_dim(conn, 'daily_prices')"
   ]
  },
  {
   "cell_type": "code",
   "execution_count": 8,
   "metadata": {},
   "outputs": [],
   "source": [
    "db_manager.release_connection(conn)\n",
    "db_manager.close_pool()"
   ]
  }
 ],
 "metadata": {
  "kernelspec": {
   "display_name": "jjflow-gsfhtDpZ",
   "language": "python",
   "name": "python3"
  },
  "language_info": {
   "codemirror_mode": {
    "name": "ipython",
    "version": 3
   },
   "file_extension": ".py",
   "mimetype": "text/x-python",
   "name": "python",
   "nbconvert_exporter": "python",
   "pygments_lexer": "ipython3",
   "version": "3.12.3"
  }
 },
 "nbformat": 4,
 "nbformat_minor": 2
}
