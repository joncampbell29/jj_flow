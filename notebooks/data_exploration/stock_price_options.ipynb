{
 "cells": [
  {
   "cell_type": "code",
   "execution_count": 9,
   "metadata": {},
   "outputs": [
    {
     "name": "stdout",
     "output_type": "stream",
     "text": [
      ".env loaded from C:\\Users\\campb\\Documents\\tradepulse\\.env\n"
     ]
    }
   ],
   "source": [
    "import pandas as pd\n",
    "import yfinance as yf\n",
    "import os\n",
    "import numpy as np\n",
    "from utils.env_utils import _load_root_env, _get_proj_root\n",
    "from alpaca.data import StockHistoricalDataClient\n",
    "from alpaca.data import StockBarsRequest\n",
    "from datetime import datetime, timedelta\n",
    "from alpaca.data.timeframe import TimeFrame\n",
    "import yaml\n",
    "root = _get_proj_root()\n",
    "_load_root_env()"
   ]
  },
  {
   "cell_type": "code",
   "execution_count": 2,
   "metadata": {},
   "outputs": [],
   "source": [
    "sample_stocks = [\n",
    "    'NVDA','BMY', 'addyy', 'aapl', 'dal', 'kvue',\n",
    "    'rtx', 'bbwi', 'axp', 'aee'\n",
    "    ]\n",
    "sample_stocks = [i.upper() for i in sample_stocks]\n",
    "stocks = np.random.choice(sample_stocks, 5, replace=False).tolist()"
   ]
  },
  {
   "cell_type": "code",
   "execution_count": null,
   "metadata": {},
   "outputs": [
    {
     "name": "stderr",
     "output_type": "stream",
     "text": [
      "[*********************100%***********************]  5 of 5 completed\n"
     ]
    }
   ],
   "source": [
    "daily_data = yf.download(stocks, period='2y', interval='1d')\n",
    "print(daily_data.shape)"
   ]
  },
  {
   "cell_type": "code",
   "execution_count": 6,
   "metadata": {},
   "outputs": [
    {
     "data": {
      "text/html": [
       "<div>\n",
       "<style scoped>\n",
       "    .dataframe tbody tr th:only-of-type {\n",
       "        vertical-align: middle;\n",
       "    }\n",
       "\n",
       "    .dataframe tbody tr th {\n",
       "        vertical-align: top;\n",
       "    }\n",
       "\n",
       "    .dataframe thead th {\n",
       "        text-align: right;\n",
       "    }\n",
       "</style>\n",
       "<table border=\"1\" class=\"dataframe\">\n",
       "  <thead>\n",
       "    <tr style=\"text-align: right;\">\n",
       "      <th>Ticker</th>\n",
       "      <th>AAPL</th>\n",
       "      <th>ADDYY</th>\n",
       "      <th>BMY</th>\n",
       "      <th>DAL</th>\n",
       "      <th>RTX</th>\n",
       "    </tr>\n",
       "    <tr>\n",
       "      <th>Date</th>\n",
       "      <th></th>\n",
       "      <th></th>\n",
       "      <th></th>\n",
       "      <th></th>\n",
       "      <th></th>\n",
       "    </tr>\n",
       "  </thead>\n",
       "  <tbody>\n",
       "    <tr>\n",
       "      <th>2024-12-16</th>\n",
       "      <td>251.039993</td>\n",
       "      <td>127.949997</td>\n",
       "      <td>55.869999</td>\n",
       "      <td>61.049999</td>\n",
       "      <td>118.110001</td>\n",
       "    </tr>\n",
       "    <tr>\n",
       "      <th>2024-12-17</th>\n",
       "      <td>253.479996</td>\n",
       "      <td>126.739998</td>\n",
       "      <td>57.650002</td>\n",
       "      <td>60.810001</td>\n",
       "      <td>117.419998</td>\n",
       "    </tr>\n",
       "    <tr>\n",
       "      <th>2024-12-18</th>\n",
       "      <td>248.050003</td>\n",
       "      <td>123.889999</td>\n",
       "      <td>56.840000</td>\n",
       "      <td>58.880001</td>\n",
       "      <td>114.449997</td>\n",
       "    </tr>\n",
       "    <tr>\n",
       "      <th>2024-12-19</th>\n",
       "      <td>249.789993</td>\n",
       "      <td>121.860001</td>\n",
       "      <td>56.299999</td>\n",
       "      <td>60.380001</td>\n",
       "      <td>115.459999</td>\n",
       "    </tr>\n",
       "    <tr>\n",
       "      <th>2024-12-20</th>\n",
       "      <td>254.490005</td>\n",
       "      <td>122.930000</td>\n",
       "      <td>57.330002</td>\n",
       "      <td>60.930000</td>\n",
       "      <td>116.480003</td>\n",
       "    </tr>\n",
       "  </tbody>\n",
       "</table>\n",
       "</div>"
      ],
      "text/plain": [
       "Ticker            AAPL       ADDYY        BMY        DAL         RTX\n",
       "Date                                                                \n",
       "2024-12-16  251.039993  127.949997  55.869999  61.049999  118.110001\n",
       "2024-12-17  253.479996  126.739998  57.650002  60.810001  117.419998\n",
       "2024-12-18  248.050003  123.889999  56.840000  58.880001  114.449997\n",
       "2024-12-19  249.789993  121.860001  56.299999  60.380001  115.459999\n",
       "2024-12-20  254.490005  122.930000  57.330002  60.930000  116.480003"
      ]
     },
     "execution_count": 6,
     "metadata": {},
     "output_type": "execute_result"
    }
   ],
   "source": [
    "daily_data['Close'].tail()"
   ]
  },
  {
   "cell_type": "code",
   "execution_count": 10,
   "metadata": {},
   "outputs": [],
   "source": [
    "alpaca_key = os.environ['ALPACA_PAPER_API_KEY']\n",
    "alpaca_secret = os.environ['ALPACA_PAPER_SECRET']"
   ]
  },
  {
   "cell_type": "code",
   "execution_count": 14,
   "metadata": {},
   "outputs": [],
   "source": [
    "client = StockHistoricalDataClient(\n",
    "    api_key=alpaca_key,\n",
    "    secret_key=alpaca_secret,\n",
    ")\n",
    "start = datetime.now() - timedelta(1*2*365)\n",
    "end = datetime.now() - timedelta(1)\n",
    "print(start)\n",
    "print(end)"
   ]
  },
  {
   "cell_type": "code",
   "execution_count": 29,
   "metadata": {},
   "outputs": [],
   "source": [
    "request_params = StockBarsRequest(\n",
    "  symbol_or_symbols=stocks,\n",
    "  timeframe=TimeFrame.Day,\n",
    "  start=start,\n",
    "  end=end\n",
    ")\n",
    "alpaca_data = client.get_stock_bars(\n",
    "    request_params=request_params\n",
    ")"
   ]
  },
  {
   "cell_type": "code",
   "execution_count": 50,
   "metadata": {},
   "outputs": [
    {
     "data": {
      "text/html": [
       "<div>\n",
       "<style scoped>\n",
       "    .dataframe tbody tr th:only-of-type {\n",
       "        vertical-align: middle;\n",
       "    }\n",
       "\n",
       "    .dataframe tbody tr th {\n",
       "        vertical-align: top;\n",
       "    }\n",
       "\n",
       "    .dataframe thead th {\n",
       "        text-align: right;\n",
       "    }\n",
       "</style>\n",
       "<table border=\"1\" class=\"dataframe\">\n",
       "  <thead>\n",
       "    <tr style=\"text-align: right;\">\n",
       "      <th>Ticker</th>\n",
       "      <th>AAPL</th>\n",
       "      <th>ADDYY</th>\n",
       "      <th>BMY</th>\n",
       "      <th>DAL</th>\n",
       "      <th>RTX</th>\n",
       "    </tr>\n",
       "    <tr>\n",
       "      <th>Date</th>\n",
       "      <th></th>\n",
       "      <th></th>\n",
       "      <th></th>\n",
       "      <th></th>\n",
       "      <th></th>\n",
       "    </tr>\n",
       "  </thead>\n",
       "  <tbody>\n",
       "    <tr>\n",
       "      <th>2024-12-16</th>\n",
       "      <td>251.039993</td>\n",
       "      <td>127.949997</td>\n",
       "      <td>55.869999</td>\n",
       "      <td>61.049999</td>\n",
       "      <td>118.110001</td>\n",
       "    </tr>\n",
       "    <tr>\n",
       "      <th>2024-12-17</th>\n",
       "      <td>253.479996</td>\n",
       "      <td>126.739998</td>\n",
       "      <td>57.650002</td>\n",
       "      <td>60.810001</td>\n",
       "      <td>117.419998</td>\n",
       "    </tr>\n",
       "    <tr>\n",
       "      <th>2024-12-18</th>\n",
       "      <td>248.050003</td>\n",
       "      <td>123.889999</td>\n",
       "      <td>56.840000</td>\n",
       "      <td>58.880001</td>\n",
       "      <td>114.449997</td>\n",
       "    </tr>\n",
       "    <tr>\n",
       "      <th>2024-12-19</th>\n",
       "      <td>249.789993</td>\n",
       "      <td>121.860001</td>\n",
       "      <td>56.299999</td>\n",
       "      <td>60.380001</td>\n",
       "      <td>115.459999</td>\n",
       "    </tr>\n",
       "    <tr>\n",
       "      <th>2024-12-20</th>\n",
       "      <td>254.490005</td>\n",
       "      <td>122.930000</td>\n",
       "      <td>57.330002</td>\n",
       "      <td>60.930000</td>\n",
       "      <td>116.480003</td>\n",
       "    </tr>\n",
       "  </tbody>\n",
       "</table>\n",
       "</div>"
      ],
      "text/plain": [
       "Ticker            AAPL       ADDYY        BMY        DAL         RTX\n",
       "Date                                                                \n",
       "2024-12-16  251.039993  127.949997  55.869999  61.049999  118.110001\n",
       "2024-12-17  253.479996  126.739998  57.650002  60.810001  117.419998\n",
       "2024-12-18  248.050003  123.889999  56.840000  58.880001  114.449997\n",
       "2024-12-19  249.789993  121.860001  56.299999  60.380001  115.459999\n",
       "2024-12-20  254.490005  122.930000  57.330002  60.930000  116.480003"
      ]
     },
     "execution_count": 50,
     "metadata": {},
     "output_type": "execute_result"
    }
   ],
   "source": [
    "daily_data['Close'].tail()"
   ]
  },
  {
   "cell_type": "code",
   "execution_count": 62,
   "metadata": {},
   "outputs": [
    {
     "data": {
      "text/plain": [
       "Index(['open', 'high', 'low', 'close', 'volume', 'trade_count', 'vwap'], dtype='object')"
      ]
     },
     "execution_count": 62,
     "metadata": {},
     "output_type": "execute_result"
    }
   ],
   "source": [
    "alpaca_data.df.columns"
   ]
  },
  {
   "cell_type": "code",
   "execution_count": 59,
   "metadata": {},
   "outputs": [
    {
     "data": {
      "text/html": [
       "<div>\n",
       "<style scoped>\n",
       "    .dataframe tbody tr th:only-of-type {\n",
       "        vertical-align: middle;\n",
       "    }\n",
       "\n",
       "    .dataframe tbody tr th {\n",
       "        vertical-align: top;\n",
       "    }\n",
       "\n",
       "    .dataframe thead th {\n",
       "        text-align: right;\n",
       "    }\n",
       "</style>\n",
       "<table border=\"1\" class=\"dataframe\">\n",
       "  <thead>\n",
       "    <tr style=\"text-align: right;\">\n",
       "      <th></th>\n",
       "      <th>symbol</th>\n",
       "      <th>timestamp</th>\n",
       "      <th>close</th>\n",
       "    </tr>\n",
       "  </thead>\n",
       "  <tbody>\n",
       "    <tr>\n",
       "      <th>496</th>\n",
       "      <td>AAPL</td>\n",
       "      <td>2024-12-13 05:00:00+00:00</td>\n",
       "      <td>248.13</td>\n",
       "    </tr>\n",
       "    <tr>\n",
       "      <th>497</th>\n",
       "      <td>AAPL</td>\n",
       "      <td>2024-12-16 05:00:00+00:00</td>\n",
       "      <td>251.04</td>\n",
       "    </tr>\n",
       "    <tr>\n",
       "      <th>498</th>\n",
       "      <td>AAPL</td>\n",
       "      <td>2024-12-17 05:00:00+00:00</td>\n",
       "      <td>253.48</td>\n",
       "    </tr>\n",
       "    <tr>\n",
       "      <th>499</th>\n",
       "      <td>AAPL</td>\n",
       "      <td>2024-12-18 05:00:00+00:00</td>\n",
       "      <td>248.05</td>\n",
       "    </tr>\n",
       "    <tr>\n",
       "      <th>500</th>\n",
       "      <td>AAPL</td>\n",
       "      <td>2024-12-19 05:00:00+00:00</td>\n",
       "      <td>249.79</td>\n",
       "    </tr>\n",
       "  </tbody>\n",
       "</table>\n",
       "</div>"
      ],
      "text/plain": [
       "    symbol                 timestamp   close\n",
       "496   AAPL 2024-12-13 05:00:00+00:00  248.13\n",
       "497   AAPL 2024-12-16 05:00:00+00:00  251.04\n",
       "498   AAPL 2024-12-17 05:00:00+00:00  253.48\n",
       "499   AAPL 2024-12-18 05:00:00+00:00  248.05\n",
       "500   AAPL 2024-12-19 05:00:00+00:00  249.79"
      ]
     },
     "execution_count": 59,
     "metadata": {},
     "output_type": "execute_result"
    }
   ],
   "source": [
    "alpaca_data.df.reset_index().query(\"symbol=='AAPL'\").tail()[['symbol','timestamp','close']]"
   ]
  }
 ],
 "metadata": {
  "kernelspec": {
   "display_name": "tradepulse-YS3O7BZZ",
   "language": "python",
   "name": "python3"
  },
  "language_info": {
   "codemirror_mode": {
    "name": "ipython",
    "version": 3
   },
   "file_extension": ".py",
   "mimetype": "text/x-python",
   "name": "python",
   "nbconvert_exporter": "python",
   "pygments_lexer": "ipython3",
   "version": "3.12.3"
  }
 },
 "nbformat": 4,
 "nbformat_minor": 2
}
