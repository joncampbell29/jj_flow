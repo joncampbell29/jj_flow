{
 "cells": [
  {
   "cell_type": "code",
   "execution_count": 1,
   "metadata": {},
   "outputs": [],
   "source": [
    "import pandas as pd\n",
    "import yfinance as yf\n",
    "import numpy as np"
   ]
  },
  {
   "cell_type": "code",
   "execution_count": 2,
   "metadata": {},
   "outputs": [],
   "source": [
    "sample_stocks = [\n",
    "    'NVDA','BMY', 'addyy', 'aapl', 'dal', 'kvue',\n",
    "    'rtx', 'bbwi', 'axp', 'aee'\n",
    "    ]\n",
    "sample_stocks = [i.upper() for i in sample_stocks]"
   ]
  },
  {
   "cell_type": "code",
   "execution_count": 3,
   "metadata": {},
   "outputs": [],
   "source": [
    "stocks = np.random.choice(sample_stocks, 5, replace=False).tolist()"
   ]
  },
  {
   "cell_type": "code",
   "execution_count": 4,
   "metadata": {},
   "outputs": [
    {
     "name": "stderr",
     "output_type": "stream",
     "text": [
      "[*********************100%***********************]  5 of 5 completed\n"
     ]
    }
   ],
   "source": [
    "daily_data = yf.download(stocks, period='2y', interval='1d')"
   ]
  },
  {
   "cell_type": "code",
   "execution_count": 8,
   "metadata": {},
   "outputs": [
    {
     "data": {
      "text/plain": [
       "(503, 25)"
      ]
     },
     "execution_count": 8,
     "metadata": {},
     "output_type": "execute_result"
    }
   ],
   "source": [
    "daily_data.shape"
   ]
  },
  {
   "cell_type": "code",
   "execution_count": 6,
   "metadata": {},
   "outputs": [
    {
     "data": {
      "text/html": [
       "<div>\n",
       "<style scoped>\n",
       "    .dataframe tbody tr th:only-of-type {\n",
       "        vertical-align: middle;\n",
       "    }\n",
       "\n",
       "    .dataframe tbody tr th {\n",
       "        vertical-align: top;\n",
       "    }\n",
       "\n",
       "    .dataframe thead th {\n",
       "        text-align: right;\n",
       "    }\n",
       "</style>\n",
       "<table border=\"1\" class=\"dataframe\">\n",
       "  <thead>\n",
       "    <tr style=\"text-align: right;\">\n",
       "      <th>Ticker</th>\n",
       "      <th>AEE</th>\n",
       "      <th>BBWI</th>\n",
       "      <th>DAL</th>\n",
       "      <th>KVUE</th>\n",
       "      <th>NVDA</th>\n",
       "    </tr>\n",
       "    <tr>\n",
       "      <th>Date</th>\n",
       "      <th></th>\n",
       "      <th></th>\n",
       "      <th></th>\n",
       "      <th></th>\n",
       "      <th></th>\n",
       "    </tr>\n",
       "  </thead>\n",
       "  <tbody>\n",
       "    <tr>\n",
       "      <th>2024-12-13</th>\n",
       "      <td>89.839996</td>\n",
       "      <td>38.220001</td>\n",
       "      <td>61.520000</td>\n",
       "      <td>22.209999</td>\n",
       "      <td>134.250000</td>\n",
       "    </tr>\n",
       "    <tr>\n",
       "      <th>2024-12-16</th>\n",
       "      <td>88.730003</td>\n",
       "      <td>38.619999</td>\n",
       "      <td>61.049999</td>\n",
       "      <td>22.070000</td>\n",
       "      <td>132.000000</td>\n",
       "    </tr>\n",
       "    <tr>\n",
       "      <th>2024-12-17</th>\n",
       "      <td>88.680000</td>\n",
       "      <td>38.669998</td>\n",
       "      <td>60.810001</td>\n",
       "      <td>22.040001</td>\n",
       "      <td>130.389999</td>\n",
       "    </tr>\n",
       "    <tr>\n",
       "      <th>2024-12-18</th>\n",
       "      <td>86.930000</td>\n",
       "      <td>38.480000</td>\n",
       "      <td>58.880001</td>\n",
       "      <td>21.510000</td>\n",
       "      <td>128.910004</td>\n",
       "    </tr>\n",
       "    <tr>\n",
       "      <th>2024-12-19</th>\n",
       "      <td>88.570000</td>\n",
       "      <td>38.580002</td>\n",
       "      <td>60.380001</td>\n",
       "      <td>21.610001</td>\n",
       "      <td>130.679993</td>\n",
       "    </tr>\n",
       "  </tbody>\n",
       "</table>\n",
       "</div>"
      ],
      "text/plain": [
       "Ticker            AEE       BBWI        DAL       KVUE        NVDA\n",
       "Date                                                              \n",
       "2024-12-13  89.839996  38.220001  61.520000  22.209999  134.250000\n",
       "2024-12-16  88.730003  38.619999  61.049999  22.070000  132.000000\n",
       "2024-12-17  88.680000  38.669998  60.810001  22.040001  130.389999\n",
       "2024-12-18  86.930000  38.480000  58.880001  21.510000  128.910004\n",
       "2024-12-19  88.570000  38.580002  60.380001  21.610001  130.679993"
      ]
     },
     "execution_count": 6,
     "metadata": {},
     "output_type": "execute_result"
    }
   ],
   "source": [
    "daily_data['Close'].tail()"
   ]
  },
  {
   "cell_type": "code",
   "execution_count": null,
   "metadata": {},
   "outputs": [],
   "source": [
    "# from alpaca.data import StockHistoricalDataClient"
   ]
  }
 ],
 "metadata": {
  "kernelspec": {
   "display_name": "trading-AuQ3hSdm",
   "language": "python",
   "name": "python3"
  },
  "language_info": {
   "codemirror_mode": {
    "name": "ipython",
    "version": 3
   },
   "file_extension": ".py",
   "mimetype": "text/x-python",
   "name": "python",
   "nbconvert_exporter": "python",
   "pygments_lexer": "ipython3",
   "version": "3.12.3"
  }
 },
 "nbformat": 4,
 "nbformat_minor": 2
}
