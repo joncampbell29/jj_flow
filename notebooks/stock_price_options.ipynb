{
 "cells": [
  {
   "cell_type": "code",
   "execution_count": 4,
   "metadata": {},
   "outputs": [],
   "source": [
    "import pandas as pd\n",
    "import yfinance as yf\n",
    "import numpy as np\n"
   ]
  },
  {
   "cell_type": "code",
   "execution_count": 13,
   "metadata": {},
   "outputs": [],
   "source": [
    "sample_stocks = [\n",
    "    'NVDA','BMY', 'addyy', 'aapl', 'dal', 'kvue',\n",
    "    'rtx', 'bbwi', 'axp', 'aee'\n",
    "    ]\n",
    "sample_stocks = [i.upper() for i in sample_stocks]"
   ]
  },
  {
   "cell_type": "code",
   "execution_count": 22,
   "metadata": {},
   "outputs": [],
   "source": [
    "stocks = np.random.choice(sample_stocks, 5, replace=False).tolist()"
   ]
  },
  {
   "cell_type": "code",
   "execution_count": 18,
   "metadata": {},
   "outputs": [
    {
     "name": "stdout",
     "output_type": "stream",
     "text": [
      "\u001b[1;31mSignature:\u001b[0m\n",
      "\u001b[0myf\u001b[0m\u001b[1;33m.\u001b[0m\u001b[0mdownload\u001b[0m\u001b[1;33m(\u001b[0m\u001b[1;33m\n",
      "\u001b[0m    \u001b[0mtickers\u001b[0m\u001b[1;33m,\u001b[0m\u001b[1;33m\n",
      "\u001b[0m    \u001b[0mstart\u001b[0m\u001b[1;33m=\u001b[0m\u001b[1;32mNone\u001b[0m\u001b[1;33m,\u001b[0m\u001b[1;33m\n",
      "\u001b[0m    \u001b[0mend\u001b[0m\u001b[1;33m=\u001b[0m\u001b[1;32mNone\u001b[0m\u001b[1;33m,\u001b[0m\u001b[1;33m\n",
      "\u001b[0m    \u001b[0mactions\u001b[0m\u001b[1;33m=\u001b[0m\u001b[1;32mFalse\u001b[0m\u001b[1;33m,\u001b[0m\u001b[1;33m\n",
      "\u001b[0m    \u001b[0mthreads\u001b[0m\u001b[1;33m=\u001b[0m\u001b[1;32mTrue\u001b[0m\u001b[1;33m,\u001b[0m\u001b[1;33m\n",
      "\u001b[0m    \u001b[0mignore_tz\u001b[0m\u001b[1;33m=\u001b[0m\u001b[1;32mNone\u001b[0m\u001b[1;33m,\u001b[0m\u001b[1;33m\n",
      "\u001b[0m    \u001b[0mgroup_by\u001b[0m\u001b[1;33m=\u001b[0m\u001b[1;34m'column'\u001b[0m\u001b[1;33m,\u001b[0m\u001b[1;33m\n",
      "\u001b[0m    \u001b[0mauto_adjust\u001b[0m\u001b[1;33m=\u001b[0m\u001b[1;32mFalse\u001b[0m\u001b[1;33m,\u001b[0m\u001b[1;33m\n",
      "\u001b[0m    \u001b[0mback_adjust\u001b[0m\u001b[1;33m=\u001b[0m\u001b[1;32mFalse\u001b[0m\u001b[1;33m,\u001b[0m\u001b[1;33m\n",
      "\u001b[0m    \u001b[0mrepair\u001b[0m\u001b[1;33m=\u001b[0m\u001b[1;32mFalse\u001b[0m\u001b[1;33m,\u001b[0m\u001b[1;33m\n",
      "\u001b[0m    \u001b[0mkeepna\u001b[0m\u001b[1;33m=\u001b[0m\u001b[1;32mFalse\u001b[0m\u001b[1;33m,\u001b[0m\u001b[1;33m\n",
      "\u001b[0m    \u001b[0mprogress\u001b[0m\u001b[1;33m=\u001b[0m\u001b[1;32mTrue\u001b[0m\u001b[1;33m,\u001b[0m\u001b[1;33m\n",
      "\u001b[0m    \u001b[0mperiod\u001b[0m\u001b[1;33m=\u001b[0m\u001b[1;34m'max'\u001b[0m\u001b[1;33m,\u001b[0m\u001b[1;33m\n",
      "\u001b[0m    \u001b[0minterval\u001b[0m\u001b[1;33m=\u001b[0m\u001b[1;34m'1d'\u001b[0m\u001b[1;33m,\u001b[0m\u001b[1;33m\n",
      "\u001b[0m    \u001b[0mprepost\u001b[0m\u001b[1;33m=\u001b[0m\u001b[1;32mFalse\u001b[0m\u001b[1;33m,\u001b[0m\u001b[1;33m\n",
      "\u001b[0m    \u001b[0mproxy\u001b[0m\u001b[1;33m=\u001b[0m\u001b[1;32mNone\u001b[0m\u001b[1;33m,\u001b[0m\u001b[1;33m\n",
      "\u001b[0m    \u001b[0mrounding\u001b[0m\u001b[1;33m=\u001b[0m\u001b[1;32mFalse\u001b[0m\u001b[1;33m,\u001b[0m\u001b[1;33m\n",
      "\u001b[0m    \u001b[0mtimeout\u001b[0m\u001b[1;33m=\u001b[0m\u001b[1;36m10\u001b[0m\u001b[1;33m,\u001b[0m\u001b[1;33m\n",
      "\u001b[0m    \u001b[0msession\u001b[0m\u001b[1;33m=\u001b[0m\u001b[1;32mNone\u001b[0m\u001b[1;33m,\u001b[0m\u001b[1;33m\n",
      "\u001b[0m    \u001b[0mmulti_level_index\u001b[0m\u001b[1;33m=\u001b[0m\u001b[1;32mTrue\u001b[0m\u001b[1;33m,\u001b[0m\u001b[1;33m\n",
      "\u001b[0m\u001b[1;33m)\u001b[0m \u001b[1;33m->\u001b[0m \u001b[0mOptional\u001b[0m\u001b[1;33m[\u001b[0m\u001b[0mpandas\u001b[0m\u001b[1;33m.\u001b[0m\u001b[0mcore\u001b[0m\u001b[1;33m.\u001b[0m\u001b[0mframe\u001b[0m\u001b[1;33m.\u001b[0m\u001b[0mDataFrame\u001b[0m\u001b[1;33m]\u001b[0m\u001b[1;33m\u001b[0m\u001b[1;33m\u001b[0m\u001b[0m\n",
      "\u001b[1;31mDocstring:\u001b[0m\n",
      "Download yahoo tickers\n",
      ":Parameters:\n",
      "    tickers : str, list\n",
      "        List of tickers to download\n",
      "    period : str\n",
      "        Valid periods: 1d,5d,1mo,3mo,6mo,1y,2y,5y,10y,ytd,max\n",
      "        Either Use period parameter or use start and end\n",
      "    interval : str\n",
      "        Valid intervals: 1m,2m,5m,15m,30m,60m,90m,1h,1d,5d,1wk,1mo,3mo\n",
      "        Intraday data cannot extend last 60 days\n",
      "    start: str\n",
      "        Download start date string (YYYY-MM-DD) or _datetime, inclusive.\n",
      "        Default is 99 years ago\n",
      "        E.g. for start=\"2020-01-01\", the first data point will be on \"2020-01-01\"\n",
      "    end: str\n",
      "        Download end date string (YYYY-MM-DD) or _datetime, exclusive.\n",
      "        Default is now\n",
      "        E.g. for end=\"2023-01-01\", the last data point will be on \"2022-12-31\"\n",
      "    group_by : str\n",
      "        Group by 'ticker' or 'column' (default)\n",
      "    prepost : bool\n",
      "        Include Pre and Post market data in results?\n",
      "        Default is False\n",
      "    auto_adjust: bool\n",
      "        Adjust all OHLC automatically? Default is False\n",
      "    repair: bool\n",
      "        Detect currency unit 100x mixups and attempt repair\n",
      "        Default is False\n",
      "    keepna: bool\n",
      "        Keep NaN rows returned by Yahoo?\n",
      "        Default is False\n",
      "    actions: bool\n",
      "        Download dividend + stock splits data. Default is False\n",
      "    threads: bool / int\n",
      "        How many threads to use for mass downloading. Default is True\n",
      "    ignore_tz: bool\n",
      "        When combining from different timezones, ignore that part of datetime.\n",
      "        Default depends on interval. Intraday = False. Day+ = True.\n",
      "    proxy: str\n",
      "        Optional. Proxy server URL scheme. Default is None\n",
      "    rounding: bool\n",
      "        Optional. Round values to 2 decimal places?\n",
      "    timeout: None or float\n",
      "        If not None stops waiting for a response after given number of\n",
      "        seconds. (Can also be a fraction of a second e.g. 0.01)\n",
      "    session: None or Session\n",
      "        Optional. Pass your own session object to be used for all requests\n",
      "    multi_level_index: bool\n",
      "        Optional. Always return a MultiIndex DataFrame? Default is True\n",
      "\u001b[1;31mFile:\u001b[0m      c:\\users\\campb\\.virtualenvs\\trading-txiav44g\\lib\\site-packages\\yfinance\\multi.py\n",
      "\u001b[1;31mType:\u001b[0m      function"
     ]
    }
   ],
   "source": [
    "?yf.download"
   ]
  },
  {
   "cell_type": "code",
   "execution_count": 23,
   "metadata": {},
   "outputs": [
    {
     "name": "stderr",
     "output_type": "stream",
     "text": [
      "[*********************100%***********************]  5 of 5 completed\n"
     ]
    }
   ],
   "source": [
    "daily_data = yf.download(stocks, period='2y', interval='1d')"
   ]
  },
  {
   "cell_type": "code",
   "execution_count": 34,
   "metadata": {},
   "outputs": [
    {
     "data": {
      "text/plain": [
       "(504, 30)"
      ]
     },
     "execution_count": 34,
     "metadata": {},
     "output_type": "execute_result"
    }
   ],
   "source": [
    "daily_data.shape"
   ]
  },
  {
   "cell_type": "code",
   "execution_count": 27,
   "metadata": {},
   "outputs": [
    {
     "data": {
      "text/html": [
       "<div>\n",
       "<style scoped>\n",
       "    .dataframe tbody tr th:only-of-type {\n",
       "        vertical-align: middle;\n",
       "    }\n",
       "\n",
       "    .dataframe tbody tr th {\n",
       "        vertical-align: top;\n",
       "    }\n",
       "\n",
       "    .dataframe thead th {\n",
       "        text-align: right;\n",
       "    }\n",
       "</style>\n",
       "<table border=\"1\" class=\"dataframe\">\n",
       "  <thead>\n",
       "    <tr style=\"text-align: right;\">\n",
       "      <th>Ticker</th>\n",
       "      <th>ADDYY</th>\n",
       "      <th>AEE</th>\n",
       "      <th>BBWI</th>\n",
       "      <th>DAL</th>\n",
       "      <th>KVUE</th>\n",
       "    </tr>\n",
       "    <tr>\n",
       "      <th>Date</th>\n",
       "      <th></th>\n",
       "      <th></th>\n",
       "      <th></th>\n",
       "      <th></th>\n",
       "      <th></th>\n",
       "    </tr>\n",
       "  </thead>\n",
       "  <tbody>\n",
       "    <tr>\n",
       "      <th>2022-12-19</th>\n",
       "      <td>63.624268</td>\n",
       "      <td>81.799316</td>\n",
       "      <td>38.645653</td>\n",
       "      <td>32.410446</td>\n",
       "      <td>NaN</td>\n",
       "    </tr>\n",
       "    <tr>\n",
       "      <th>2022-12-20</th>\n",
       "      <td>62.552116</td>\n",
       "      <td>81.705597</td>\n",
       "      <td>38.607334</td>\n",
       "      <td>32.390762</td>\n",
       "      <td>NaN</td>\n",
       "    </tr>\n",
       "    <tr>\n",
       "      <th>2022-12-21</th>\n",
       "      <td>66.215302</td>\n",
       "      <td>83.017395</td>\n",
       "      <td>39.488693</td>\n",
       "      <td>33.148842</td>\n",
       "      <td>NaN</td>\n",
       "    </tr>\n",
       "    <tr>\n",
       "      <th>2022-12-22</th>\n",
       "      <td>65.917488</td>\n",
       "      <td>82.792519</td>\n",
       "      <td>38.645653</td>\n",
       "      <td>32.410446</td>\n",
       "      <td>NaN</td>\n",
       "    </tr>\n",
       "    <tr>\n",
       "      <th>2022-12-23</th>\n",
       "      <td>66.433708</td>\n",
       "      <td>83.888802</td>\n",
       "      <td>40.178452</td>\n",
       "      <td>32.646732</td>\n",
       "      <td>NaN</td>\n",
       "    </tr>\n",
       "  </tbody>\n",
       "</table>\n",
       "</div>"
      ],
      "text/plain": [
       "Ticker          ADDYY        AEE       BBWI        DAL  KVUE\n",
       "Date                                                        \n",
       "2022-12-19  63.624268  81.799316  38.645653  32.410446   NaN\n",
       "2022-12-20  62.552116  81.705597  38.607334  32.390762   NaN\n",
       "2022-12-21  66.215302  83.017395  39.488693  33.148842   NaN\n",
       "2022-12-22  65.917488  82.792519  38.645653  32.410446   NaN\n",
       "2022-12-23  66.433708  83.888802  40.178452  32.646732   NaN"
      ]
     },
     "execution_count": 27,
     "metadata": {},
     "output_type": "execute_result"
    }
   ],
   "source": [
    "daily_data['Adj Close'].head()"
   ]
  },
  {
   "cell_type": "code",
   "execution_count": null,
   "metadata": {},
   "outputs": [],
   "source": []
  },
  {
   "cell_type": "code",
   "execution_count": 28,
   "metadata": {},
   "outputs": [
    {
     "name": "stderr",
     "output_type": "stream",
     "text": [
      "[*********************100%***********************]  5 of 5 completed\n"
     ]
    }
   ],
   "source": [
    "hourly_data = yf.download(stocks, period='1mo', interval='60m')"
   ]
  },
  {
   "cell_type": "code",
   "execution_count": 33,
   "metadata": {},
   "outputs": [
    {
     "data": {
      "text/plain": [
       "(145, 30)"
      ]
     },
     "execution_count": 33,
     "metadata": {},
     "output_type": "execute_result"
    }
   ],
   "source": [
    "hourly_data.shape"
   ]
  },
  {
   "cell_type": "code",
   "execution_count": 38,
   "metadata": {},
   "outputs": [
    {
     "data": {
      "text/html": [
       "<div>\n",
       "<style scoped>\n",
       "    .dataframe tbody tr th:only-of-type {\n",
       "        vertical-align: middle;\n",
       "    }\n",
       "\n",
       "    .dataframe tbody tr th {\n",
       "        vertical-align: top;\n",
       "    }\n",
       "\n",
       "    .dataframe thead th {\n",
       "        text-align: right;\n",
       "    }\n",
       "</style>\n",
       "<table border=\"1\" class=\"dataframe\">\n",
       "  <thead>\n",
       "    <tr style=\"text-align: right;\">\n",
       "      <th>Ticker</th>\n",
       "      <th>ADDYY</th>\n",
       "      <th>AEE</th>\n",
       "      <th>BBWI</th>\n",
       "      <th>DAL</th>\n",
       "      <th>KVUE</th>\n",
       "    </tr>\n",
       "    <tr>\n",
       "      <th>Datetime</th>\n",
       "      <th></th>\n",
       "      <th></th>\n",
       "      <th></th>\n",
       "      <th></th>\n",
       "      <th></th>\n",
       "    </tr>\n",
       "  </thead>\n",
       "  <tbody>\n",
       "    <tr>\n",
       "      <th>2024-11-19 13:30:00</th>\n",
       "      <td>113.099998</td>\n",
       "      <td>92.019997</td>\n",
       "      <td>30.150000</td>\n",
       "      <td>64.300003</td>\n",
       "      <td>23.684999</td>\n",
       "    </tr>\n",
       "    <tr>\n",
       "      <th>2024-11-19 14:30:00</th>\n",
       "      <td>112.959999</td>\n",
       "      <td>91.820000</td>\n",
       "      <td>30.440001</td>\n",
       "      <td>65.074997</td>\n",
       "      <td>23.629999</td>\n",
       "    </tr>\n",
       "    <tr>\n",
       "      <th>2024-11-19 15:30:00</th>\n",
       "      <td>112.970001</td>\n",
       "      <td>92.120003</td>\n",
       "      <td>30.440001</td>\n",
       "      <td>64.739998</td>\n",
       "      <td>23.680000</td>\n",
       "    </tr>\n",
       "    <tr>\n",
       "      <th>2024-11-20 09:30:00</th>\n",
       "      <td>111.849998</td>\n",
       "      <td>92.235001</td>\n",
       "      <td>30.440001</td>\n",
       "      <td>62.009998</td>\n",
       "      <td>23.674999</td>\n",
       "    </tr>\n",
       "    <tr>\n",
       "      <th>2024-11-20 10:30:00</th>\n",
       "      <td>112.269997</td>\n",
       "      <td>92.000000</td>\n",
       "      <td>30.549999</td>\n",
       "      <td>63.860001</td>\n",
       "      <td>23.650000</td>\n",
       "    </tr>\n",
       "  </tbody>\n",
       "</table>\n",
       "</div>"
      ],
      "text/plain": [
       "Ticker                    ADDYY        AEE       BBWI        DAL       KVUE\n",
       "Datetime                                                                   \n",
       "2024-11-19 13:30:00  113.099998  92.019997  30.150000  64.300003  23.684999\n",
       "2024-11-19 14:30:00  112.959999  91.820000  30.440001  65.074997  23.629999\n",
       "2024-11-19 15:30:00  112.970001  92.120003  30.440001  64.739998  23.680000\n",
       "2024-11-20 09:30:00  111.849998  92.235001  30.440001  62.009998  23.674999\n",
       "2024-11-20 10:30:00  112.269997  92.000000  30.549999  63.860001  23.650000"
      ]
     },
     "execution_count": 38,
     "metadata": {},
     "output_type": "execute_result"
    }
   ],
   "source": [
    "hourly_data['Adj Close'].head()"
   ]
  }
 ],
 "metadata": {
  "kernelspec": {
   "display_name": "trading-TXiav44g",
   "language": "python",
   "name": "python3"
  },
  "language_info": {
   "codemirror_mode": {
    "name": "ipython",
    "version": 3
   },
   "file_extension": ".py",
   "mimetype": "text/x-python",
   "name": "python",
   "nbconvert_exporter": "python",
   "pygments_lexer": "ipython3",
   "version": "3.12.4"
  }
 },
 "nbformat": 4,
 "nbformat_minor": 2
}
