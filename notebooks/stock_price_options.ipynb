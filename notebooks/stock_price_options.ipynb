{
 "cells": [
  {
   "cell_type": "code",
   "execution_count": 1,
   "metadata": {},
   "outputs": [],
   "source": [
    "import pandas as pd\n",
    "import yfinance as yf\n",
    "import numpy as np"
   ]
  },
  {
   "cell_type": "code",
   "execution_count": 2,
   "metadata": {},
   "outputs": [],
   "source": [
    "sample_stocks = [\n",
    "    'NVDA','BMY', 'addyy', 'aapl', 'dal', 'kvue',\n",
    "    'rtx', 'bbwi', 'axp', 'aee'\n",
    "    ]\n",
    "sample_stocks = [i.upper() for i in sample_stocks]"
   ]
  },
  {
   "cell_type": "code",
   "execution_count": 3,
   "metadata": {},
   "outputs": [],
   "source": [
    "stocks = np.random.choice(sample_stocks, 5, replace=False).tolist()"
   ]
  },
  {
   "cell_type": "code",
   "execution_count": 4,
   "metadata": {},
   "outputs": [
    {
     "name": "stderr",
     "output_type": "stream",
     "text": [
      "[*********************100%***********************]  5 of 5 completed\n"
     ]
    }
   ],
   "source": [
    "daily_data = yf.download(stocks, period='2y', interval='1d')"
   ]
  },
  {
   "cell_type": "code",
   "execution_count": 5,
   "metadata": {},
   "outputs": [
    {
     "data": {
      "text/plain": [
       "(503, 25)"
      ]
     },
     "execution_count": 5,
     "metadata": {},
     "output_type": "execute_result"
    }
   ],
   "source": [
    "daily_data.shape"
   ]
  },
  {
   "cell_type": "code",
   "execution_count": 10,
   "metadata": {},
   "outputs": [
    {
     "data": {
      "text/html": [
       "<div>\n",
       "<style scoped>\n",
       "    .dataframe tbody tr th:only-of-type {\n",
       "        vertical-align: middle;\n",
       "    }\n",
       "\n",
       "    .dataframe tbody tr th {\n",
       "        vertical-align: top;\n",
       "    }\n",
       "\n",
       "    .dataframe thead th {\n",
       "        text-align: right;\n",
       "    }\n",
       "</style>\n",
       "<table border=\"1\" class=\"dataframe\">\n",
       "  <thead>\n",
       "    <tr style=\"text-align: right;\">\n",
       "      <th>Ticker</th>\n",
       "      <th>AAPL</th>\n",
       "      <th>ADDYY</th>\n",
       "      <th>AEE</th>\n",
       "      <th>BBWI</th>\n",
       "      <th>RTX</th>\n",
       "    </tr>\n",
       "    <tr>\n",
       "      <th>Date</th>\n",
       "      <th></th>\n",
       "      <th></th>\n",
       "      <th></th>\n",
       "      <th></th>\n",
       "      <th></th>\n",
       "    </tr>\n",
       "  </thead>\n",
       "  <tbody>\n",
       "    <tr>\n",
       "      <th>2024-12-13</th>\n",
       "      <td>248.130005</td>\n",
       "      <td>126.230003</td>\n",
       "      <td>89.839996</td>\n",
       "      <td>38.220001</td>\n",
       "      <td>117.750000</td>\n",
       "    </tr>\n",
       "    <tr>\n",
       "      <th>2024-12-16</th>\n",
       "      <td>251.039993</td>\n",
       "      <td>127.949997</td>\n",
       "      <td>88.730003</td>\n",
       "      <td>38.619999</td>\n",
       "      <td>118.110001</td>\n",
       "    </tr>\n",
       "    <tr>\n",
       "      <th>2024-12-17</th>\n",
       "      <td>253.479996</td>\n",
       "      <td>126.739998</td>\n",
       "      <td>88.680000</td>\n",
       "      <td>38.669998</td>\n",
       "      <td>117.419998</td>\n",
       "    </tr>\n",
       "    <tr>\n",
       "      <th>2024-12-18</th>\n",
       "      <td>248.050003</td>\n",
       "      <td>123.889999</td>\n",
       "      <td>86.930000</td>\n",
       "      <td>38.480000</td>\n",
       "      <td>114.449997</td>\n",
       "    </tr>\n",
       "    <tr>\n",
       "      <th>2024-12-19</th>\n",
       "      <td>249.789993</td>\n",
       "      <td>122.099998</td>\n",
       "      <td>88.570000</td>\n",
       "      <td>38.580002</td>\n",
       "      <td>115.459999</td>\n",
       "    </tr>\n",
       "  </tbody>\n",
       "</table>\n",
       "</div>"
      ],
      "text/plain": [
       "Ticker            AAPL       ADDYY        AEE       BBWI         RTX\n",
       "Date                                                                \n",
       "2024-12-13  248.130005  126.230003  89.839996  38.220001  117.750000\n",
       "2024-12-16  251.039993  127.949997  88.730003  38.619999  118.110001\n",
       "2024-12-17  253.479996  126.739998  88.680000  38.669998  117.419998\n",
       "2024-12-18  248.050003  123.889999  86.930000  38.480000  114.449997\n",
       "2024-12-19  249.789993  122.099998  88.570000  38.580002  115.459999"
      ]
     },
     "execution_count": 10,
     "metadata": {},
     "output_type": "execute_result"
    }
   ],
   "source": [
    "daily_data['Close'].tail()"
   ]
  }
 ],
 "metadata": {
  "kernelspec": {
   "display_name": "trading-TXiav44g",
   "language": "python",
   "name": "python3"
  },
  "language_info": {
   "codemirror_mode": {
    "name": "ipython",
    "version": 3
   },
   "file_extension": ".py",
   "mimetype": "text/x-python",
   "name": "python",
   "nbconvert_exporter": "python",
   "pygments_lexer": "ipython3",
   "version": "3.12.3"
  }
 },
 "nbformat": 4,
 "nbformat_minor": 2
}
